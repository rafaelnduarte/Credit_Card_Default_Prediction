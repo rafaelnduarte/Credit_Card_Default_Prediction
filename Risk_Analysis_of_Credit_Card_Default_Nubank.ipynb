{
  "nbformat": 4,
  "nbformat_minor": 0,
  "metadata": {
    "colab": {
      "name": "Risk Analysis of Credit Card Default - Nubank.ipynb",
      "provenance": [],
      "collapsed_sections": [],
      "include_colab_link": true
    },
    "kernelspec": {
      "name": "python3",
      "display_name": "Python 3"
    }
  },
  "cells": [
    {
      "cell_type": "markdown",
      "metadata": {
        "id": "view-in-github",
        "colab_type": "text"
      },
      "source": [
        "<a href=\"https://colab.research.google.com/github/rafaelnduarte/Credit_Card_Default_Prediction_Nubank/blob/master/Risk_Analysis_of_Credit_Card_Default_Nubank.ipynb\" target=\"_parent\"><img src=\"https://colab.research.google.com/assets/colab-badge.svg\" alt=\"Open In Colab\"/></a>"
      ]
    },
    {
      "cell_type": "markdown",
      "metadata": {
        "id": "pcL9aGe6frbE",
        "colab_type": "text"
      },
      "source": [
        "# Risk Analysis of Credit Card Default - Nubank\n",
        "\n",
        "\n",
        "One of the most problematic areas for banks, funding bodies, and businessmen is the **default rate** of their clients.\n",
        "\n",
        "Analyzing whether a person will follow through with their financial responsibilities or not is extremely important and can cause a big impact on the balance of the institutions. Solutions have been developed and improved to minimize  default risk. \n",
        "\n",
        "A Default, in simple terms, is when the fulfillment of the obligations and/or conditions of a loan, such as financing or credit card debt. Usually, the main reason for not fulfilling the conditions of payment is the client's financial incapability.\n",
        "\n",
        "<p align=center>\n",
        "  <img src=\"https://image.freepik.com/free-vector/debt-bankruptcy-symbol_98292-4514.jpg\" height=\"300px\">\n",
        "</p>\n",
        " \n",
        "Big banks and Fintechs have been investing heavily in Machine Learning Models to prevent defaults.\n",
        "\n",
        "Latin America's biggest Fintech, [Nubank](https://nubank.com.br/sobre-nos), is the one that has been shining the brightest when it comes to Data Science and Artificial Intelligence solutions.\n",
        "\n",
        "The dataset analyzed in this project is part of a competition proposed by the Startup to reveal new talents and prospects for the Fintech.\n",
        "\n",
        "## Contextualizing the problem\n",
        "\n",
        "In this project, the goal is to predict the probability of credit card default of Nubank's clients.\n",
        "\n",
        "<p align=center>\n",
        "<img src=\"http://sigmoidal.ai/wp-content/uploads/2019/10/Nubank_logo.png\" width=\"90px\"></p>\n",
        "  \n",
        "It's important to mention that this evaluation must be done at the moment the client requests a credit card (usually the first contact with the institution).\n",
        "\n",
        "\n",
        "> **GOAL: Create a model that provides the probability of credit card default of the clients.**\n",
        "\n",
        "\n",
        "\n",
        "The model is expected to be able to decrease the company's financial losses while minimizing false positives.\n"
      ]
    },
    {
      "cell_type": "markdown",
      "metadata": {
        "id": "Okxt-PZ6fzdf",
        "colab_type": "text"
      },
      "source": [
        "## Importing the Data\n",
        "\n",
        "The data to be utilized in this analysis are available for download in this [link](http://dl.dropboxusercontent.com/s/xn2a4kzf0zer0xu/acquisition_train.csv?dl=0). It consists of a 'csv' file with 45.000 entries and 43 columns.\n",
        "\n",
        "This file will be imported into a data frame structure, utilizing the 'pandas' library, in order to be analyzed."
      ]
    },
    {
      "cell_type": "code",
      "metadata": {
        "id": "LvUoeOZlfmwK",
        "colab_type": "code",
        "colab": {}
      },
      "source": [
        "# importing the necessary packages\n",
        "import pandas as pd\n",
        "import matplotlib.pyplot as plt\n",
        "import seaborn as sns\n",
        "import numpy as np\n",
        "\n",
        "# defining seaborn as the style of the plots\n",
        "sns.set_style()\n",
        "\n",
        "# filtering warning messages\n",
        "import warnings\n",
        "warnings.filterwarnings('ignore')"
      ],
      "execution_count": 0,
      "outputs": []
    },
    {
      "cell_type": "code",
      "metadata": {
        "id": "eziSFo3df3qb",
        "colab_type": "code",
        "colab": {}
      },
      "source": [
        "df = pd.read_csv(\"http://dl.dropboxusercontent.com/s/xn2a4kzf0zer0xu/acquisition_train.csv?dl=0\")"
      ],
      "execution_count": 0,
      "outputs": []
    },
    {
      "cell_type": "markdown",
      "metadata": {
        "id": "ka7RF7uqf-XI",
        "colab_type": "text"
      },
      "source": [
        "### Exploratory Data Analysis"
      ]
    },
    {
      "cell_type": "code",
      "metadata": {
        "id": "BtQMbZ7YBdNA",
        "colab_type": "code",
        "outputId": "109d4c1e-5924-4920-acd8-fb4a4045562e",
        "colab": {
          "base_uri": "https://localhost:8080/",
          "height": 69
        }
      },
      "source": [
        "# data frame dimensions\n",
        "print(\"Data Frame Dimensions:\")\n",
        "print(\"Lines:\\t\\t{}\".format(df.shape[0]))\n",
        "print(\"Columns:\\t{}\".format(df.shape[1]))"
      ],
      "execution_count": 23,
      "outputs": [
        {
          "output_type": "stream",
          "text": [
            "Data Frame Dimensions:\n",
            "Lines:\t\t45000\n",
            "Columns:\t43\n"
          ],
          "name": "stdout"
        }
      ]
    },
    {
      "cell_type": "markdown",
      "metadata": {
        "id": "RAyoZYa7DyNM",
        "colab_type": "text"
      },
      "source": [
        "#### Data Dictionary\n",
        "* ids                                                  \n",
        "* target_default                                       \n",
        "* score_1                                              \n",
        "* score_2                                              \n",
        "* score_3                                             \n",
        "* score_4                                             \n",
        "* score_5                                             \n",
        "* score_6                                             \n",
        "* risk_rate                                           \n",
        "* last_amount_borrowed                                \n",
        "* last_borrowed_in_months                             \n",
        "* credit_limit                                        \n",
        "* reason                                               \n",
        "* income                                              \n",
        "* facebook_profile                                     \n",
        "* state                                                \n",
        "* zip                                                  \n",
        "* channel                                              \n",
        "* job_name                                             \n",
        "* real_state                                           \n",
        "* ok_since                                            \n",
        "* n_bankruptcies                                      \n",
        "* n_defaulted_loans                                   \n",
        "* n_accounts                                          \n",
        "* n_issues                                            \n",
        "* application_time_applied                             \n",
        "* application_time_in_funnel                            \n",
        "* email                                                \n",
        "* external_data_provider_credit_checks_last_2_year    \n",
        "* external_data_provider_credit_checks_last_month       \n",
        "* external_data_provider_credit_checks_last_year      \n",
        "* external_data_provider_email_seen_before            \n",
        "* external_data_provider_first_name                    \n",
        "* external_data_provider_fraud_score                    \n",
        "* lat_lon                                              \n",
        "* marketing_channel                                    \n",
        "* profile_phone_number                                 \n",
        "* reported_income                                     \n",
        "* shipping_state                                       \n",
        "* shipping_zip_code                                     \n",
        "* profile_tags                                         \n",
        "* user_agent                                           \n",
        "* target_fraud                     "
      ]
    },
    {
      "cell_type": "code",
      "metadata": {
        "id": "OhA373cdEm0h",
        "colab_type": "code",
        "outputId": "89ab4399-82f8-4bc1-e8ab-26cf83368b0f",
        "colab": {
          "base_uri": "https://localhost:8080/",
          "height": 421
        }
      },
      "source": [
        "df.head(3)"
      ],
      "execution_count": 24,
      "outputs": [
        {
          "output_type": "execute_result",
          "data": {
            "text/html": [
              "<div>\n",
              "<style scoped>\n",
              "    .dataframe tbody tr th:only-of-type {\n",
              "        vertical-align: middle;\n",
              "    }\n",
              "\n",
              "    .dataframe tbody tr th {\n",
              "        vertical-align: top;\n",
              "    }\n",
              "\n",
              "    .dataframe thead th {\n",
              "        text-align: right;\n",
              "    }\n",
              "</style>\n",
              "<table border=\"1\" class=\"dataframe\">\n",
              "  <thead>\n",
              "    <tr style=\"text-align: right;\">\n",
              "      <th></th>\n",
              "      <th>ids</th>\n",
              "      <th>target_default</th>\n",
              "      <th>score_1</th>\n",
              "      <th>score_2</th>\n",
              "      <th>score_3</th>\n",
              "      <th>score_4</th>\n",
              "      <th>score_5</th>\n",
              "      <th>score_6</th>\n",
              "      <th>risk_rate</th>\n",
              "      <th>last_amount_borrowed</th>\n",
              "      <th>last_borrowed_in_months</th>\n",
              "      <th>credit_limit</th>\n",
              "      <th>reason</th>\n",
              "      <th>income</th>\n",
              "      <th>facebook_profile</th>\n",
              "      <th>state</th>\n",
              "      <th>zip</th>\n",
              "      <th>channel</th>\n",
              "      <th>job_name</th>\n",
              "      <th>real_state</th>\n",
              "      <th>ok_since</th>\n",
              "      <th>n_bankruptcies</th>\n",
              "      <th>n_defaulted_loans</th>\n",
              "      <th>n_accounts</th>\n",
              "      <th>n_issues</th>\n",
              "      <th>application_time_applied</th>\n",
              "      <th>application_time_in_funnel</th>\n",
              "      <th>email</th>\n",
              "      <th>external_data_provider_credit_checks_last_2_year</th>\n",
              "      <th>external_data_provider_credit_checks_last_month</th>\n",
              "      <th>external_data_provider_credit_checks_last_year</th>\n",
              "      <th>external_data_provider_email_seen_before</th>\n",
              "      <th>external_data_provider_first_name</th>\n",
              "      <th>external_data_provider_fraud_score</th>\n",
              "      <th>lat_lon</th>\n",
              "      <th>marketing_channel</th>\n",
              "      <th>profile_phone_number</th>\n",
              "      <th>reported_income</th>\n",
              "      <th>shipping_state</th>\n",
              "      <th>shipping_zip_code</th>\n",
              "      <th>profile_tags</th>\n",
              "      <th>user_agent</th>\n",
              "      <th>target_fraud</th>\n",
              "    </tr>\n",
              "  </thead>\n",
              "  <tbody>\n",
              "    <tr>\n",
              "      <th>0</th>\n",
              "      <td>343b7e7b-2cf8-e508-b8fd-0a0285af30aa</td>\n",
              "      <td>False</td>\n",
              "      <td>1Rk8w4Ucd5yR3KcqZzLdow==</td>\n",
              "      <td>IOVu8au3ISbo6+zmfnYwMg==</td>\n",
              "      <td>350.0</td>\n",
              "      <td>101.800832</td>\n",
              "      <td>0.259555</td>\n",
              "      <td>108.427273</td>\n",
              "      <td>0.40</td>\n",
              "      <td>25033.92</td>\n",
              "      <td>36.0</td>\n",
              "      <td>0.0</td>\n",
              "      <td>mLVIVxoGY7TUDJ1FyFoSIZi1SFcaBmO01AydRchaEiGYtU...</td>\n",
              "      <td>65014.12</td>\n",
              "      <td>True</td>\n",
              "      <td>sjJbkqJS7cXalHLBFA+EOQ==</td>\n",
              "      <td>Ernn+uVXCMq/6ARrBCcd+A==</td>\n",
              "      <td>NCqL3QBx0pscDnx3ixKwXg==</td>\n",
              "      <td>mLVIVxoGY7TUDJ1FyFoSIZi1SFcaBmO01AydRchaEiGYtU...</td>\n",
              "      <td>N5/CE7lSkAfB04hVFFwllw==</td>\n",
              "      <td>NaN</td>\n",
              "      <td>0.0</td>\n",
              "      <td>0.0</td>\n",
              "      <td>18.0</td>\n",
              "      <td>18.0</td>\n",
              "      <td>07:52:34</td>\n",
              "      <td>444</td>\n",
              "      <td>outlook.com</td>\n",
              "      <td>NaN</td>\n",
              "      <td>2</td>\n",
              "      <td>0.0</td>\n",
              "      <td>51.0</td>\n",
              "      <td>leidelaura</td>\n",
              "      <td>645</td>\n",
              "      <td>(-29.151545708122246, -51.1386461804385)</td>\n",
              "      <td>Invite-email</td>\n",
              "      <td>514-9840782</td>\n",
              "      <td>57849.0</td>\n",
              "      <td>BR-MT</td>\n",
              "      <td>17528</td>\n",
              "      <td>{'tags': ['n19', 'n8']}</td>\n",
              "      <td>Mozilla/5.0 (Linux; Android 6.0.1; SGP771 Buil...</td>\n",
              "      <td>NaN</td>\n",
              "    </tr>\n",
              "    <tr>\n",
              "      <th>1</th>\n",
              "      <td>bc2c7502-bbad-0f8c-39c3-94e881967124</td>\n",
              "      <td>False</td>\n",
              "      <td>DGCQep2AE5QRkNCshIAlFQ==</td>\n",
              "      <td>SaamrHMo23l/3TwXOWgVzw==</td>\n",
              "      <td>370.0</td>\n",
              "      <td>97.062615</td>\n",
              "      <td>0.942655</td>\n",
              "      <td>92.002546</td>\n",
              "      <td>0.24</td>\n",
              "      <td>NaN</td>\n",
              "      <td>NaN</td>\n",
              "      <td>39726.0</td>\n",
              "      <td>mLVIVxoGY7TUDJ1FyFoSIZi1SFcaBmO01AydRchaEiGYtU...</td>\n",
              "      <td>100018.91</td>\n",
              "      <td>False</td>\n",
              "      <td>xsd3ZdsI3356I3xMxZeiqQ==</td>\n",
              "      <td>rlWIXTBO+VOa34+SpGyhlQ==</td>\n",
              "      <td>NCqL3QBx0pscDnx3ixKwXg==</td>\n",
              "      <td>mLVIVxoGY7TUDJ1FyFoSIZi1SFcaBmO01AydRchaEiGYtU...</td>\n",
              "      <td>N5/CE7lSkAfB04hVFFwllw==</td>\n",
              "      <td>50.0</td>\n",
              "      <td>0.0</td>\n",
              "      <td>0.0</td>\n",
              "      <td>14.0</td>\n",
              "      <td>14.0</td>\n",
              "      <td>02:34:29</td>\n",
              "      <td>346</td>\n",
              "      <td>gmail.com</td>\n",
              "      <td>0.0</td>\n",
              "      <td>1</td>\n",
              "      <td>0.0</td>\n",
              "      <td>17.0</td>\n",
              "      <td>diocezio</td>\n",
              "      <td>243</td>\n",
              "      <td>(-19.687710705798963, -47.94151536525154)</td>\n",
              "      <td>Radio-commercial</td>\n",
              "      <td>251-3659293</td>\n",
              "      <td>4902.0</td>\n",
              "      <td>BR-RS</td>\n",
              "      <td>40933</td>\n",
              "      <td>{'tags': ['n6', 'n7', 'nim']}</td>\n",
              "      <td>Mozilla/5.0 (Linux; Android 5.0.2; SAMSUNG SM-...</td>\n",
              "      <td>NaN</td>\n",
              "    </tr>\n",
              "    <tr>\n",
              "      <th>2</th>\n",
              "      <td>669630dd-2e6a-0396-84bf-455e5009c922</td>\n",
              "      <td>True</td>\n",
              "      <td>DGCQep2AE5QRkNCshIAlFQ==</td>\n",
              "      <td>Fv28Bz0YRTVAT5kl1bAV6g==</td>\n",
              "      <td>360.0</td>\n",
              "      <td>100.027073</td>\n",
              "      <td>0.351918</td>\n",
              "      <td>112.892453</td>\n",
              "      <td>0.29</td>\n",
              "      <td>7207.92</td>\n",
              "      <td>36.0</td>\n",
              "      <td>NaN</td>\n",
              "      <td>mLVIVxoGY7TUDJ1FyFoSIZi1SFcaBmO01AydRchaEiGYtU...</td>\n",
              "      <td>65023.65</td>\n",
              "      <td>NaN</td>\n",
              "      <td>Ygq6MsM98oC8yceExr69Ig==</td>\n",
              "      <td>PjTIDfJsK0DKL9fO7vuW2g==</td>\n",
              "      <td>NCqL3QBx0pscDnx3ixKwXg==</td>\n",
              "      <td>mLVIVxoGY7TUDJ1FyFoSIZi1SFcaBmO01AydRchaEiGYtU...</td>\n",
              "      <td>n+xK9CfX0bCn77lClTWviw==</td>\n",
              "      <td>NaN</td>\n",
              "      <td>0.0</td>\n",
              "      <td>0.0</td>\n",
              "      <td>10.0</td>\n",
              "      <td>NaN</td>\n",
              "      <td>00:60:02</td>\n",
              "      <td>6</td>\n",
              "      <td>gmail.com</td>\n",
              "      <td>NaN</td>\n",
              "      <td>2</td>\n",
              "      <td>NaN</td>\n",
              "      <td>9.0</td>\n",
              "      <td>veralucia</td>\n",
              "      <td>65</td>\n",
              "      <td>(-28.748023890412284, -51.867279334353995)</td>\n",
              "      <td>Waiting-list</td>\n",
              "      <td>230-6097993</td>\n",
              "      <td>163679.0</td>\n",
              "      <td>BR-RR</td>\n",
              "      <td>50985</td>\n",
              "      <td>{'tags': ['n0', 'n17', 'nim', 'da']}</td>\n",
              "      <td>Mozilla/5.0 (Linux; Android 6.0.1; SGP771 Buil...</td>\n",
              "      <td>NaN</td>\n",
              "    </tr>\n",
              "  </tbody>\n",
              "</table>\n",
              "</div>"
            ],
            "text/plain": [
              "                                    ids  ... target_fraud\n",
              "0  343b7e7b-2cf8-e508-b8fd-0a0285af30aa  ...          NaN\n",
              "1  bc2c7502-bbad-0f8c-39c3-94e881967124  ...          NaN\n",
              "2  669630dd-2e6a-0396-84bf-455e5009c922  ...          NaN\n",
              "\n",
              "[3 rows x 43 columns]"
            ]
          },
          "metadata": {
            "tags": []
          },
          "execution_count": 24
        }
      ]
    },
    {
      "cell_type": "code",
      "metadata": {
        "id": "LMAQ0pdIEY5R",
        "colab_type": "code",
        "outputId": "922c70b8-a8fa-4711-c75b-2eee98f6d8b8",
        "colab": {
          "base_uri": "https://localhost:8080/",
          "height": 780
        }
      },
      "source": [
        "df.dtypes"
      ],
      "execution_count": 25,
      "outputs": [
        {
          "output_type": "execute_result",
          "data": {
            "text/plain": [
              "ids                                                  object\n",
              "target_default                                       object\n",
              "score_1                                              object\n",
              "score_2                                              object\n",
              "score_3                                             float64\n",
              "score_4                                             float64\n",
              "score_5                                             float64\n",
              "score_6                                             float64\n",
              "risk_rate                                           float64\n",
              "last_amount_borrowed                                float64\n",
              "last_borrowed_in_months                             float64\n",
              "credit_limit                                        float64\n",
              "reason                                               object\n",
              "income                                              float64\n",
              "facebook_profile                                     object\n",
              "state                                                object\n",
              "zip                                                  object\n",
              "channel                                              object\n",
              "job_name                                             object\n",
              "real_state                                           object\n",
              "ok_since                                            float64\n",
              "n_bankruptcies                                      float64\n",
              "n_defaulted_loans                                   float64\n",
              "n_accounts                                          float64\n",
              "n_issues                                            float64\n",
              "application_time_applied                             object\n",
              "application_time_in_funnel                            int64\n",
              "email                                                object\n",
              "external_data_provider_credit_checks_last_2_year    float64\n",
              "external_data_provider_credit_checks_last_month       int64\n",
              "external_data_provider_credit_checks_last_year      float64\n",
              "external_data_provider_email_seen_before            float64\n",
              "external_data_provider_first_name                    object\n",
              "external_data_provider_fraud_score                    int64\n",
              "lat_lon                                              object\n",
              "marketing_channel                                    object\n",
              "profile_phone_number                                 object\n",
              "reported_income                                     float64\n",
              "shipping_state                                       object\n",
              "shipping_zip_code                                     int64\n",
              "profile_tags                                         object\n",
              "user_agent                                           object\n",
              "target_fraud                                         object\n",
              "dtype: object"
            ]
          },
          "metadata": {
            "tags": []
          },
          "execution_count": 25
        }
      ]
    },
    {
      "cell_type": "markdown",
      "metadata": {
        "id": "TGXp9dqqIcwv",
        "colab_type": "text"
      },
      "source": [
        "Statistical distribution of the numerical variables."
      ]
    },
    {
      "cell_type": "code",
      "metadata": {
        "id": "LBUgJZ5cIffn",
        "colab_type": "code",
        "outputId": "384864ed-e716-4a8c-f2df-ebff898d48e8",
        "colab": {
          "base_uri": "https://localhost:8080/",
          "height": 314
        }
      },
      "source": [
        "df.describe()"
      ],
      "execution_count": 26,
      "outputs": [
        {
          "output_type": "execute_result",
          "data": {
            "text/html": [
              "<div>\n",
              "<style scoped>\n",
              "    .dataframe tbody tr th:only-of-type {\n",
              "        vertical-align: middle;\n",
              "    }\n",
              "\n",
              "    .dataframe tbody tr th {\n",
              "        vertical-align: top;\n",
              "    }\n",
              "\n",
              "    .dataframe thead th {\n",
              "        text-align: right;\n",
              "    }\n",
              "</style>\n",
              "<table border=\"1\" class=\"dataframe\">\n",
              "  <thead>\n",
              "    <tr style=\"text-align: right;\">\n",
              "      <th></th>\n",
              "      <th>score_3</th>\n",
              "      <th>score_4</th>\n",
              "      <th>score_5</th>\n",
              "      <th>score_6</th>\n",
              "      <th>risk_rate</th>\n",
              "      <th>last_amount_borrowed</th>\n",
              "      <th>last_borrowed_in_months</th>\n",
              "      <th>credit_limit</th>\n",
              "      <th>income</th>\n",
              "      <th>ok_since</th>\n",
              "      <th>n_bankruptcies</th>\n",
              "      <th>n_defaulted_loans</th>\n",
              "      <th>n_accounts</th>\n",
              "      <th>n_issues</th>\n",
              "      <th>application_time_in_funnel</th>\n",
              "      <th>external_data_provider_credit_checks_last_2_year</th>\n",
              "      <th>external_data_provider_credit_checks_last_month</th>\n",
              "      <th>external_data_provider_credit_checks_last_year</th>\n",
              "      <th>external_data_provider_email_seen_before</th>\n",
              "      <th>external_data_provider_fraud_score</th>\n",
              "      <th>reported_income</th>\n",
              "      <th>shipping_zip_code</th>\n",
              "    </tr>\n",
              "  </thead>\n",
              "  <tbody>\n",
              "    <tr>\n",
              "      <th>count</th>\n",
              "      <td>44438.000000</td>\n",
              "      <td>45000.000000</td>\n",
              "      <td>45000.000000</td>\n",
              "      <td>45000.000000</td>\n",
              "      <td>44438.000000</td>\n",
              "      <td>15044.000000</td>\n",
              "      <td>15044.000000</td>\n",
              "      <td>31200.000000</td>\n",
              "      <td>4.443800e+04</td>\n",
              "      <td>18455.000000</td>\n",
              "      <td>44303.000000</td>\n",
              "      <td>44426.000000</td>\n",
              "      <td>44438.000000</td>\n",
              "      <td>33456.000000</td>\n",
              "      <td>45000.000000</td>\n",
              "      <td>22372.0</td>\n",
              "      <td>45000.000000</td>\n",
              "      <td>29876.000000</td>\n",
              "      <td>42767.000000</td>\n",
              "      <td>45000.000000</td>\n",
              "      <td>45000.00</td>\n",
              "      <td>45000.000000</td>\n",
              "    </tr>\n",
              "    <tr>\n",
              "      <th>mean</th>\n",
              "      <td>347.983258</td>\n",
              "      <td>100.006797</td>\n",
              "      <td>0.500037</td>\n",
              "      <td>99.925228</td>\n",
              "      <td>0.296717</td>\n",
              "      <td>13782.341991</td>\n",
              "      <td>41.763893</td>\n",
              "      <td>34381.951154</td>\n",
              "      <td>7.160739e+04</td>\n",
              "      <td>35.069737</td>\n",
              "      <td>0.076270</td>\n",
              "      <td>0.004569</td>\n",
              "      <td>10.696701</td>\n",
              "      <td>11.068119</td>\n",
              "      <td>247.537000</td>\n",
              "      <td>0.0</td>\n",
              "      <td>1.501067</td>\n",
              "      <td>0.503381</td>\n",
              "      <td>12.534781</td>\n",
              "      <td>500.399800</td>\n",
              "      <td>inf</td>\n",
              "      <td>33923.514844</td>\n",
              "    </tr>\n",
              "    <tr>\n",
              "      <th>std</th>\n",
              "      <td>110.429165</td>\n",
              "      <td>3.178080</td>\n",
              "      <td>0.288326</td>\n",
              "      <td>10.016549</td>\n",
              "      <td>0.101933</td>\n",
              "      <td>8077.571933</td>\n",
              "      <td>10.252705</td>\n",
              "      <td>36586.982218</td>\n",
              "      <td>5.185897e+04</td>\n",
              "      <td>21.663194</td>\n",
              "      <td>0.274052</td>\n",
              "      <td>0.079400</td>\n",
              "      <td>4.592463</td>\n",
              "      <td>4.595501</td>\n",
              "      <td>146.118398</td>\n",
              "      <td>0.0</td>\n",
              "      <td>1.114941</td>\n",
              "      <td>0.499997</td>\n",
              "      <td>126.530487</td>\n",
              "      <td>287.968873</td>\n",
              "      <td>NaN</td>\n",
              "      <td>12692.406382</td>\n",
              "    </tr>\n",
              "    <tr>\n",
              "      <th>min</th>\n",
              "      <td>0.000000</td>\n",
              "      <td>86.191572</td>\n",
              "      <td>0.000035</td>\n",
              "      <td>60.663039</td>\n",
              "      <td>0.000000</td>\n",
              "      <td>1005.180000</td>\n",
              "      <td>36.000000</td>\n",
              "      <td>0.000000</td>\n",
              "      <td>4.821180e+03</td>\n",
              "      <td>0.000000</td>\n",
              "      <td>0.000000</td>\n",
              "      <td>0.000000</td>\n",
              "      <td>0.000000</td>\n",
              "      <td>0.000000</td>\n",
              "      <td>0.000000</td>\n",
              "      <td>0.0</td>\n",
              "      <td>0.000000</td>\n",
              "      <td>0.000000</td>\n",
              "      <td>-999.000000</td>\n",
              "      <td>0.000000</td>\n",
              "      <td>403.00</td>\n",
              "      <td>12001.000000</td>\n",
              "    </tr>\n",
              "    <tr>\n",
              "      <th>25%</th>\n",
              "      <td>270.000000</td>\n",
              "      <td>97.867036</td>\n",
              "      <td>0.252150</td>\n",
              "      <td>93.198353</td>\n",
              "      <td>0.220000</td>\n",
              "      <td>7519.502500</td>\n",
              "      <td>36.000000</td>\n",
              "      <td>10000.000000</td>\n",
              "      <td>4.501078e+04</td>\n",
              "      <td>17.000000</td>\n",
              "      <td>0.000000</td>\n",
              "      <td>0.000000</td>\n",
              "      <td>7.000000</td>\n",
              "      <td>8.000000</td>\n",
              "      <td>120.000000</td>\n",
              "      <td>0.0</td>\n",
              "      <td>1.000000</td>\n",
              "      <td>0.000000</td>\n",
              "      <td>11.000000</td>\n",
              "      <td>252.000000</td>\n",
              "      <td>50948.25</td>\n",
              "      <td>22937.000000</td>\n",
              "    </tr>\n",
              "    <tr>\n",
              "      <th>50%</th>\n",
              "      <td>340.000000</td>\n",
              "      <td>100.018900</td>\n",
              "      <td>0.500753</td>\n",
              "      <td>99.974796</td>\n",
              "      <td>0.290000</td>\n",
              "      <td>12023.465000</td>\n",
              "      <td>36.000000</td>\n",
              "      <td>25647.000000</td>\n",
              "      <td>6.126676e+04</td>\n",
              "      <td>32.000000</td>\n",
              "      <td>0.000000</td>\n",
              "      <td>0.000000</td>\n",
              "      <td>10.000000</td>\n",
              "      <td>10.000000</td>\n",
              "      <td>248.000000</td>\n",
              "      <td>0.0</td>\n",
              "      <td>2.000000</td>\n",
              "      <td>1.000000</td>\n",
              "      <td>27.000000</td>\n",
              "      <td>503.000000</td>\n",
              "      <td>101779.00</td>\n",
              "      <td>33896.000000</td>\n",
              "    </tr>\n",
              "    <tr>\n",
              "      <th>75%</th>\n",
              "      <td>420.000000</td>\n",
              "      <td>102.141797</td>\n",
              "      <td>0.748816</td>\n",
              "      <td>106.640275</td>\n",
              "      <td>0.360000</td>\n",
              "      <td>19220.270000</td>\n",
              "      <td>36.000000</td>\n",
              "      <td>47086.750000</td>\n",
              "      <td>8.601923e+04</td>\n",
              "      <td>50.000000</td>\n",
              "      <td>0.000000</td>\n",
              "      <td>0.000000</td>\n",
              "      <td>13.000000</td>\n",
              "      <td>14.000000</td>\n",
              "      <td>375.000000</td>\n",
              "      <td>0.0</td>\n",
              "      <td>2.000000</td>\n",
              "      <td>1.000000</td>\n",
              "      <td>43.000000</td>\n",
              "      <td>747.000000</td>\n",
              "      <td>151337.25</td>\n",
              "      <td>44910.000000</td>\n",
              "    </tr>\n",
              "    <tr>\n",
              "      <th>max</th>\n",
              "      <td>990.000000</td>\n",
              "      <td>113.978234</td>\n",
              "      <td>0.999973</td>\n",
              "      <td>142.192400</td>\n",
              "      <td>0.900000</td>\n",
              "      <td>35059.600000</td>\n",
              "      <td>60.000000</td>\n",
              "      <td>448269.000000</td>\n",
              "      <td>5.000028e+06</td>\n",
              "      <td>141.000000</td>\n",
              "      <td>5.000000</td>\n",
              "      <td>5.000000</td>\n",
              "      <td>49.000000</td>\n",
              "      <td>49.000000</td>\n",
              "      <td>500.000000</td>\n",
              "      <td>0.0</td>\n",
              "      <td>3.000000</td>\n",
              "      <td>1.000000</td>\n",
              "      <td>59.000000</td>\n",
              "      <td>1000.000000</td>\n",
              "      <td>inf</td>\n",
              "      <td>56000.000000</td>\n",
              "    </tr>\n",
              "  </tbody>\n",
              "</table>\n",
              "</div>"
            ],
            "text/plain": [
              "            score_3       score_4  ...  reported_income  shipping_zip_code\n",
              "count  44438.000000  45000.000000  ...         45000.00       45000.000000\n",
              "mean     347.983258    100.006797  ...              inf       33923.514844\n",
              "std      110.429165      3.178080  ...              NaN       12692.406382\n",
              "min        0.000000     86.191572  ...           403.00       12001.000000\n",
              "25%      270.000000     97.867036  ...         50948.25       22937.000000\n",
              "50%      340.000000    100.018900  ...        101779.00       33896.000000\n",
              "75%      420.000000    102.141797  ...        151337.25       44910.000000\n",
              "max      990.000000    113.978234  ...              inf       56000.000000\n",
              "\n",
              "[8 rows x 22 columns]"
            ]
          },
          "metadata": {
            "tags": []
          },
          "execution_count": 26
        }
      ]
    },
    {
      "cell_type": "markdown",
      "metadata": {
        "id": "_-zVx4wlI66h",
        "colab_type": "text"
      },
      "source": [
        "Distribution of the categorical variables."
      ]
    },
    {
      "cell_type": "code",
      "metadata": {
        "id": "uBdYIP-qI57R",
        "colab_type": "code",
        "outputId": "0e625059-bb33-4ac0-e7af-9b0b0376c54d",
        "colab": {
          "base_uri": "https://localhost:8080/",
          "height": 261
        }
      },
      "source": [
        "df.describe(include=['O'])"
      ],
      "execution_count": 27,
      "outputs": [
        {
          "output_type": "execute_result",
          "data": {
            "text/html": [
              "<div>\n",
              "<style scoped>\n",
              "    .dataframe tbody tr th:only-of-type {\n",
              "        vertical-align: middle;\n",
              "    }\n",
              "\n",
              "    .dataframe tbody tr th {\n",
              "        vertical-align: top;\n",
              "    }\n",
              "\n",
              "    .dataframe thead th {\n",
              "        text-align: right;\n",
              "    }\n",
              "</style>\n",
              "<table border=\"1\" class=\"dataframe\">\n",
              "  <thead>\n",
              "    <tr style=\"text-align: right;\">\n",
              "      <th></th>\n",
              "      <th>ids</th>\n",
              "      <th>target_default</th>\n",
              "      <th>score_1</th>\n",
              "      <th>score_2</th>\n",
              "      <th>reason</th>\n",
              "      <th>facebook_profile</th>\n",
              "      <th>state</th>\n",
              "      <th>zip</th>\n",
              "      <th>channel</th>\n",
              "      <th>job_name</th>\n",
              "      <th>real_state</th>\n",
              "      <th>application_time_applied</th>\n",
              "      <th>email</th>\n",
              "      <th>external_data_provider_first_name</th>\n",
              "      <th>lat_lon</th>\n",
              "      <th>marketing_channel</th>\n",
              "      <th>profile_phone_number</th>\n",
              "      <th>shipping_state</th>\n",
              "      <th>profile_tags</th>\n",
              "      <th>user_agent</th>\n",
              "      <th>target_fraud</th>\n",
              "    </tr>\n",
              "  </thead>\n",
              "  <tbody>\n",
              "    <tr>\n",
              "      <th>count</th>\n",
              "      <td>45000</td>\n",
              "      <td>41741</td>\n",
              "      <td>44438</td>\n",
              "      <td>44438</td>\n",
              "      <td>44434</td>\n",
              "      <td>40542</td>\n",
              "      <td>44438</td>\n",
              "      <td>44438</td>\n",
              "      <td>44438</td>\n",
              "      <td>41664</td>\n",
              "      <td>44438</td>\n",
              "      <td>45000</td>\n",
              "      <td>45000</td>\n",
              "      <td>45000</td>\n",
              "      <td>43637</td>\n",
              "      <td>41422</td>\n",
              "      <td>45000</td>\n",
              "      <td>45000</td>\n",
              "      <td>45000</td>\n",
              "      <td>44278</td>\n",
              "      <td>1522</td>\n",
              "    </tr>\n",
              "    <tr>\n",
              "      <th>unique</th>\n",
              "      <td>45000</td>\n",
              "      <td>2</td>\n",
              "      <td>7</td>\n",
              "      <td>35</td>\n",
              "      <td>14874</td>\n",
              "      <td>2</td>\n",
              "      <td>50</td>\n",
              "      <td>823</td>\n",
              "      <td>1</td>\n",
              "      <td>32265</td>\n",
              "      <td>5</td>\n",
              "      <td>35543</td>\n",
              "      <td>6</td>\n",
              "      <td>32886</td>\n",
              "      <td>22412</td>\n",
              "      <td>9</td>\n",
              "      <td>45000</td>\n",
              "      <td>25</td>\n",
              "      <td>26131</td>\n",
              "      <td>297</td>\n",
              "      <td>2</td>\n",
              "    </tr>\n",
              "    <tr>\n",
              "      <th>top</th>\n",
              "      <td>ec5e440f-e65d-48fe-8570-b48b35d8d6e4</td>\n",
              "      <td>False</td>\n",
              "      <td>DGCQep2AE5QRkNCshIAlFQ==</td>\n",
              "      <td>osCzpM4hJrxugqWWuZmMWw==</td>\n",
              "      <td>mLVIVxoGY7TUDJ1FyFoSIZi1SFcaBmO01AydRchaEiGYtU...</td>\n",
              "      <td>False</td>\n",
              "      <td>xsd3ZdsI3356I3xMxZeiqQ==</td>\n",
              "      <td>3k2JCQ8Bp5oDwaI39ZJgHA==</td>\n",
              "      <td>NCqL3QBx0pscDnx3ixKwXg==</td>\n",
              "      <td>mLVIVxoGY7TUDJ1FyFoSIZi1SFcaBmO01AydRchaEiGYtU...</td>\n",
              "      <td>N5/CE7lSkAfB04hVFFwllw==</td>\n",
              "      <td>18:02:09</td>\n",
              "      <td>gmail.com</td>\n",
              "      <td>claudinei</td>\n",
              "      <td>(-5.164423488858103, -37.356920426246845)</td>\n",
              "      <td>Website</td>\n",
              "      <td>486-6367702</td>\n",
              "      <td>BR-SP</td>\n",
              "      <td>{'tags': ['aty']}</td>\n",
              "      <td>Mozilla/5.0 (Linux; Android 5.0.2; LG-V410/V41...</td>\n",
              "      <td>fraud_friends_family</td>\n",
              "    </tr>\n",
              "    <tr>\n",
              "      <th>freq</th>\n",
              "      <td>1</td>\n",
              "      <td>35080</td>\n",
              "      <td>14523</td>\n",
              "      <td>3573</td>\n",
              "      <td>4463</td>\n",
              "      <td>24933</td>\n",
              "      <td>7429</td>\n",
              "      <td>566</td>\n",
              "      <td>44438</td>\n",
              "      <td>167</td>\n",
              "      <td>22353</td>\n",
              "      <td>6</td>\n",
              "      <td>22720</td>\n",
              "      <td>7</td>\n",
              "      <td>18</td>\n",
              "      <td>10950</td>\n",
              "      <td>1</td>\n",
              "      <td>6994</td>\n",
              "      <td>358</td>\n",
              "      <td>195</td>\n",
              "      <td>904</td>\n",
              "    </tr>\n",
              "  </tbody>\n",
              "</table>\n",
              "</div>"
            ],
            "text/plain": [
              "                                         ids  ...          target_fraud\n",
              "count                                  45000  ...                  1522\n",
              "unique                                 45000  ...                     2\n",
              "top     ec5e440f-e65d-48fe-8570-b48b35d8d6e4  ...  fraud_friends_family\n",
              "freq                                       1  ...                   904\n",
              "\n",
              "[4 rows x 21 columns]"
            ]
          },
          "metadata": {
            "tags": []
          },
          "execution_count": 27
        }
      ]
    },
    {
      "cell_type": "markdown",
      "metadata": {
        "id": "9WERrB2ZLDDV",
        "colab_type": "text"
      },
      "source": [
        "#### Missing Values"
      ]
    },
    {
      "cell_type": "code",
      "metadata": {
        "id": "qRmXeidrKUmJ",
        "colab_type": "code",
        "outputId": "7466ca2d-105e-458b-bfef-f07ca406890d",
        "colab": {
          "base_uri": "https://localhost:8080/",
          "height": 815
        }
      },
      "source": [
        "# missing values\n",
        "print(\"\\nMISSING VALUES:\")\n",
        "print((df.isnull().sum() / df.shape[0]).sort_values(ascending=False))"
      ],
      "execution_count": 28,
      "outputs": [
        {
          "output_type": "stream",
          "text": [
            "\n",
            "MISSING VALUES:\n",
            "target_fraud                                        0.966178\n",
            "last_amount_borrowed                                0.665689\n",
            "last_borrowed_in_months                             0.665689\n",
            "ok_since                                            0.589889\n",
            "external_data_provider_credit_checks_last_2_year    0.502844\n",
            "external_data_provider_credit_checks_last_year      0.336089\n",
            "credit_limit                                        0.306667\n",
            "n_issues                                            0.256533\n",
            "facebook_profile                                    0.099067\n",
            "marketing_channel                                   0.079511\n",
            "job_name                                            0.074133\n",
            "target_default                                      0.072422\n",
            "external_data_provider_email_seen_before            0.049622\n",
            "lat_lon                                             0.030289\n",
            "user_agent                                          0.016044\n",
            "n_bankruptcies                                      0.015489\n",
            "n_defaulted_loans                                   0.012756\n",
            "reason                                              0.012578\n",
            "income                                              0.012489\n",
            "real_state                                          0.012489\n",
            "state                                               0.012489\n",
            "zip                                                 0.012489\n",
            "channel                                             0.012489\n",
            "score_3                                             0.012489\n",
            "score_2                                             0.012489\n",
            "score_1                                             0.012489\n",
            "n_accounts                                          0.012489\n",
            "risk_rate                                           0.012489\n",
            "shipping_zip_code                                   0.000000\n",
            "score_4                                             0.000000\n",
            "score_5                                             0.000000\n",
            "profile_tags                                        0.000000\n",
            "score_6                                             0.000000\n",
            "application_time_in_funnel                          0.000000\n",
            "shipping_state                                      0.000000\n",
            "reported_income                                     0.000000\n",
            "application_time_applied                            0.000000\n",
            "profile_phone_number                                0.000000\n",
            "external_data_provider_fraud_score                  0.000000\n",
            "external_data_provider_first_name                   0.000000\n",
            "external_data_provider_credit_checks_last_month     0.000000\n",
            "email                                               0.000000\n",
            "ids                                                 0.000000\n",
            "dtype: float64\n"
          ],
          "name": "stdout"
        }
      ]
    },
    {
      "cell_type": "markdown",
      "metadata": {
        "id": "4EMKFnYUOWA4",
        "colab_type": "text"
      },
      "source": [
        "Let's talk about the insights obtained from the visualization above:\n",
        "\n",
        "* The variables ['target_fraud', 'last_amount_borrowed', 'last_borrowed_in_months', 'ok_since', 'external_data_provider_credit_checks_last_2_year'] have over 50% of their values missing. These variables will more likely be discarded.\n",
        "* The variables ['external_data_provider_credit_checks_last_year', 'credit_limit', 'n_issues'] have from 25% to 34% of their values missing.\n",
        "* "
      ]
    },
    {
      "cell_type": "markdown",
      "metadata": {
        "id": "HmpL66jVM-up",
        "colab_type": "text"
      },
      "source": [
        "In our description of the categorical data above we've seen the unique values for each of the categorical variables, but, for better visualization, let's check for unique values again."
      ]
    },
    {
      "cell_type": "code",
      "metadata": {
        "id": "c8PXg_4oN8UO",
        "colab_type": "code",
        "outputId": "0aa2c661-bdc0-485e-f4bd-cfdb87f6ae83",
        "colab": {
          "base_uri": "https://localhost:8080/",
          "height": 815
        }
      },
      "source": [
        "# unique values\n",
        "print(\"\\nUNIQUE VALUES:\")\n",
        "print(df.nunique().sort_values())"
      ],
      "execution_count": 29,
      "outputs": [
        {
          "output_type": "stream",
          "text": [
            "\n",
            "UNIQUE VALUES:\n",
            "external_data_provider_credit_checks_last_2_year        1\n",
            "channel                                                 1\n",
            "target_fraud                                            2\n",
            "target_default                                          2\n",
            "external_data_provider_credit_checks_last_year          2\n",
            "facebook_profile                                        2\n",
            "last_borrowed_in_months                                 2\n",
            "external_data_provider_credit_checks_last_month         4\n",
            "n_defaulted_loans                                       5\n",
            "real_state                                              5\n",
            "email                                                   6\n",
            "n_bankruptcies                                          6\n",
            "score_1                                                 7\n",
            "marketing_channel                                       9\n",
            "shipping_state                                         25\n",
            "score_2                                                35\n",
            "n_issues                                               44\n",
            "n_accounts                                             44\n",
            "state                                                  50\n",
            "external_data_provider_email_seen_before               62\n",
            "risk_rate                                              82\n",
            "score_3                                                88\n",
            "ok_since                                              100\n",
            "user_agent                                            297\n",
            "application_time_in_funnel                            501\n",
            "zip                                                   823\n",
            "external_data_provider_fraud_score                   1001\n",
            "last_amount_borrowed                                14325\n",
            "reason                                              14874\n",
            "credit_limit                                        20928\n",
            "lat_lon                                             22412\n",
            "profile_tags                                        26131\n",
            "shipping_zip_code                                   28263\n",
            "job_name                                            32265\n",
            "external_data_provider_first_name                   32886\n",
            "application_time_applied                            35543\n",
            "reported_income                                     40025\n",
            "income                                              41211\n",
            "score_4                                             45000\n",
            "score_5                                             45000\n",
            "score_6                                             45000\n",
            "profile_phone_number                                45000\n",
            "ids                                                 45000\n",
            "dtype: int64\n"
          ],
          "name": "stdout"
        }
      ]
    },
    {
      "cell_type": "markdown",
      "metadata": {
        "id": "qXR57MSDD9pR",
        "colab_type": "text"
      },
      "source": [
        "Analyzing the visualization above, we notice that:\n",
        "\n",
        "* The columns 'external_data_provider_credit_checks_last_2_year' and 'channel' have only one possible value. Since we don't have any further information on the features, we'll drop these two columns when preparing the data for our Machine Learning model.\n",
        "\n",
        "* On top of that, we can see that the variable 'profile_phone_number' has over 45.000 possible values, which probably brings no useful information for our analysis and model."
      ]
    },
    {
      "cell_type": "markdown",
      "metadata": {
        "id": "CJeqVE1eGPVO",
        "colab_type": "text"
      },
      "source": [
        "Now that we've taken a look at the dataset as a whole, let's take a closer look at our target variable 'target_default' and see how it relates to the rest of the dataset."
      ]
    },
    {
      "cell_type": "code",
      "metadata": {
        "id": "YTpF5HADD8_V",
        "colab_type": "code",
        "outputId": "95cc7e57-08ab-45e1-e6d0-7af21377fbc1",
        "colab": {
          "base_uri": "https://localhost:8080/",
          "height": 365
        }
      },
      "source": [
        "# proportion of default in the dataset\n",
        "fig, ax = plt.subplots()\n",
        "sns.countplot('target_default', data=df, ax=ax)\n",
        "ax.set_title(\"Default\")\n",
        "ax.set_xlabel(\"Value\")\n",
        "ax.set_ylabel(\"Count\")\n",
        "plt.show()\n",
        "\n",
        "print(\"Proportion of Credit Card default in the dataset:\")\n",
        "print(df['target_default'].value_counts() / df.shape[0])"
      ],
      "execution_count": 30,
      "outputs": [
        {
          "output_type": "display_data",
          "data": {
            "image/png": "[encoded data removed]",
            "text/plain": [
              "<Figure size 432x288 with 1 Axes>"
            ]
          },
          "metadata": {
            "tags": []
          }
        },
        {
          "output_type": "stream",
          "text": [
            "Proportion of Credit Card default in the dataset:\n",
            "False    0.779556\n",
            "True     0.148022\n",
            "Name: target_default, dtype: float64\n"
          ],
          "name": "stdout"
        }
      ]
    },
    {
      "cell_type": "markdown",
      "metadata": {
        "id": "NGG2TmorIIfs",
        "colab_type": "text"
      },
      "source": [
        "As expected, we confirme that the majority of the dataset consists on good payers, with defaults accounting for about 15% of the dataset."
      ]
    },
    {
      "cell_type": "code",
      "metadata": {
        "id": "iEyvUnM_Jemz",
        "colab_type": "code",
        "colab": {}
      },
      "source": [
        ""
      ],
      "execution_count": 0,
      "outputs": []
    },
    {
      "cell_type": "markdown",
      "metadata": {
        "id": "DsdbsLLYgC38",
        "colab_type": "text"
      },
      "source": [
        "## Preparing the Data"
      ]
    },
    {
      "cell_type": "markdown",
      "metadata": {
        "id": "3lDTWBXWJ4q9",
        "colab_type": "text"
      },
      "source": [
        "After analyzing our data, it's time to prepare the it for the model."
      ]
    },
    {
      "cell_type": "code",
      "metadata": {
        "id": "6NHEY4caK4tc",
        "colab_type": "code",
        "colab": {}
      },
      "source": [
        "# creating a copy of the dataset\n",
        "df_clean = df.copy()"
      ],
      "execution_count": 0,
      "outputs": []
    },
    {
      "cell_type": "markdown",
      "metadata": {
        "id": "rFYuIvA_K8dF",
        "colab_type": "text"
      },
      "source": [
        "In our analysis, we identified some entries with infinite values for the variable 'reported_income'. \n",
        "\n",
        "Inifinite values are a problem for our model, and must be fixed.\n",
        "\n",
        "* We're going to replace the **infinite** values with **NaN**."
      ]
    },
    {
      "cell_type": "code",
      "metadata": {
        "id": "ijlOA9vzLHZi",
        "colab_type": "code",
        "colab": {}
      },
      "source": [
        "# substituting inf with nan in reported_income \n",
        "df_clean['reported_income'] = df_clean['reported_income'].replace(np.inf,\n",
        "                                                                  np.nan)"
      ],
      "execution_count": 0,
      "outputs": []
    },
    {
      "cell_type": "markdown",
      "metadata": {
        "id": "gEHNnA5nMZmK",
        "colab_type": "text"
      },
      "source": [
        "The next step is discarding unnecessary columns.\n",
        "\n",
        "We're going to drop the columns 'ids', 'target_fraud', 'external_data_provider_credit_checks_last_2_year', and 'channel'.\n",
        "\n",
        "* 'Ids' are not relevant for the model, and 'target_fraud' is not related to the task at hand. \n",
        "* When it comes to 'channel' and 'external_data_provider_credit_checks_last_2_year', they have only one possible value. That means that they can't make a difference in our model, so let's drop them too."
      ]
    },
    {
      "cell_type": "code",
      "metadata": {
        "id": "2pmAqjS6M6_C",
        "colab_type": "code",
        "colab": {}
      },
      "source": [
        "# dropping the columns ids, target_fraud,\n",
        "# external_data_provider_credit_checks_last_2_year and channel\n",
        "df_clean.drop(labels=['ids', 'target_fraud',\n",
        "                      'external_data_provider_credit_checks_last_2_year',\n",
        "                      'channel'], axis=1, inplace=True)"
      ],
      "execution_count": 0,
      "outputs": []
    },
    {
      "cell_type": "markdown",
      "metadata": {
        "id": "P3bZJ_v9OmjJ",
        "colab_type": "text"
      },
      "source": [
        "Now it's time to deal with too large values in the dataset. In the variable 'external_data_provider_email_seen_before' we have entries with the value -999.0. Let's replace these entries with NaN.\n",
        "\n",
        "* This kind of value wouldn't fit in our model."
      ]
    },
    {
      "cell_type": "code",
      "metadata": {
        "id": "VRS6Bbi5OjYp",
        "colab_type": "code",
        "colab": {}
      },
      "source": [
        "#  substituting -999 in external_data_provider_email_seen_before with NaN\n",
        "df_clean.loc[df_clean['external_data_provider_email_seen_before'] == -999.0,\n",
        "             'external_data_provider_email_seen_before'] = np.nan"
      ],
      "execution_count": 0,
      "outputs": []
    },
    {
      "cell_type": "markdown",
      "metadata": {
        "id": "B3fZKyaSR2wR",
        "colab_type": "text"
      },
      "source": [
        "The next is step is dropping the columns with unnecessary information. \\\n",
        "\n",
        "Some of these variables are unclear, and in order not to make wrong assumptions, let's clear them up. In later versions of our model, we can try and include them to test out the results. For now, let's drop them.\n"
      ]
    },
    {
      "cell_type": "code",
      "metadata": {
        "id": "NsLQ4ssxVal5",
        "colab_type": "code",
        "colab": {}
      },
      "source": [
        "# eliminating unnecessary columns\n",
        "drop_var = ['reason', 'zip', 'job_name', 'external_data_provider_first_name',\n",
        "            'lat_lon', 'shipping_zip_code', 'user_agent', 'profile_tags',\n",
        "            'application_time_applied', 'email', 'marketing_channel',\n",
        "            'profile_phone_number', 'shipping_state']\n",
        "df_clean.drop(labels=drop_var, axis=1, inplace=True)"
      ],
      "execution_count": 0,
      "outputs": []
    },
    {
      "cell_type": "markdown",
      "metadata": {
        "id": "W0mDxevBViKt",
        "colab_type": "text"
      },
      "source": [
        "Finally, in our target variable there are some missing values. Our model would be the one capable of telling us what to put in these blanks, but to build it, we can't have them.\n",
        "\n",
        "In this case, the best option would be to drop the lines of the dataset that have missing values for our target variable."
      ]
    },
    {
      "cell_type": "code",
      "metadata": {
        "id": "m5OynaC3J39o",
        "colab_type": "code",
        "colab": {}
      },
      "source": [
        "# eliminating entries where target_default is NaN\n",
        "df_clean.dropna(subset=['target_default'], inplace=True)"
      ],
      "execution_count": 0,
      "outputs": []
    },
    {
      "cell_type": "code",
      "metadata": {
        "id": "0fCn_aPtWCxA",
        "colab_type": "code",
        "outputId": "972a2eaa-5082-4c94-9cb1-cb7d124e0f7a",
        "colab": {
          "base_uri": "https://localhost:8080/",
          "height": 161
        }
      },
      "source": [
        "df_clean.head(3)"
      ],
      "execution_count": 37,
      "outputs": [
        {
          "output_type": "execute_result",
          "data": {
            "text/html": [
              "<div>\n",
              "<style scoped>\n",
              "    .dataframe tbody tr th:only-of-type {\n",
              "        vertical-align: middle;\n",
              "    }\n",
              "\n",
              "    .dataframe tbody tr th {\n",
              "        vertical-align: top;\n",
              "    }\n",
              "\n",
              "    .dataframe thead th {\n",
              "        text-align: right;\n",
              "    }\n",
              "</style>\n",
              "<table border=\"1\" class=\"dataframe\">\n",
              "  <thead>\n",
              "    <tr style=\"text-align: right;\">\n",
              "      <th></th>\n",
              "      <th>target_default</th>\n",
              "      <th>score_1</th>\n",
              "      <th>score_2</th>\n",
              "      <th>score_3</th>\n",
              "      <th>score_4</th>\n",
              "      <th>score_5</th>\n",
              "      <th>score_6</th>\n",
              "      <th>risk_rate</th>\n",
              "      <th>last_amount_borrowed</th>\n",
              "      <th>last_borrowed_in_months</th>\n",
              "      <th>credit_limit</th>\n",
              "      <th>income</th>\n",
              "      <th>facebook_profile</th>\n",
              "      <th>state</th>\n",
              "      <th>real_state</th>\n",
              "      <th>ok_since</th>\n",
              "      <th>n_bankruptcies</th>\n",
              "      <th>n_defaulted_loans</th>\n",
              "      <th>n_accounts</th>\n",
              "      <th>n_issues</th>\n",
              "      <th>application_time_in_funnel</th>\n",
              "      <th>external_data_provider_credit_checks_last_month</th>\n",
              "      <th>external_data_provider_credit_checks_last_year</th>\n",
              "      <th>external_data_provider_email_seen_before</th>\n",
              "      <th>external_data_provider_fraud_score</th>\n",
              "      <th>reported_income</th>\n",
              "    </tr>\n",
              "  </thead>\n",
              "  <tbody>\n",
              "    <tr>\n",
              "      <th>0</th>\n",
              "      <td>False</td>\n",
              "      <td>1Rk8w4Ucd5yR3KcqZzLdow==</td>\n",
              "      <td>IOVu8au3ISbo6+zmfnYwMg==</td>\n",
              "      <td>350.0</td>\n",
              "      <td>101.800832</td>\n",
              "      <td>0.259555</td>\n",
              "      <td>108.427273</td>\n",
              "      <td>0.40</td>\n",
              "      <td>25033.92</td>\n",
              "      <td>36.0</td>\n",
              "      <td>0.0</td>\n",
              "      <td>65014.12</td>\n",
              "      <td>True</td>\n",
              "      <td>sjJbkqJS7cXalHLBFA+EOQ==</td>\n",
              "      <td>N5/CE7lSkAfB04hVFFwllw==</td>\n",
              "      <td>NaN</td>\n",
              "      <td>0.0</td>\n",
              "      <td>0.0</td>\n",
              "      <td>18.0</td>\n",
              "      <td>18.0</td>\n",
              "      <td>444</td>\n",
              "      <td>2</td>\n",
              "      <td>0.0</td>\n",
              "      <td>51.0</td>\n",
              "      <td>645</td>\n",
              "      <td>57849.0</td>\n",
              "    </tr>\n",
              "    <tr>\n",
              "      <th>1</th>\n",
              "      <td>False</td>\n",
              "      <td>DGCQep2AE5QRkNCshIAlFQ==</td>\n",
              "      <td>SaamrHMo23l/3TwXOWgVzw==</td>\n",
              "      <td>370.0</td>\n",
              "      <td>97.062615</td>\n",
              "      <td>0.942655</td>\n",
              "      <td>92.002546</td>\n",
              "      <td>0.24</td>\n",
              "      <td>NaN</td>\n",
              "      <td>NaN</td>\n",
              "      <td>39726.0</td>\n",
              "      <td>100018.91</td>\n",
              "      <td>False</td>\n",
              "      <td>xsd3ZdsI3356I3xMxZeiqQ==</td>\n",
              "      <td>N5/CE7lSkAfB04hVFFwllw==</td>\n",
              "      <td>50.0</td>\n",
              "      <td>0.0</td>\n",
              "      <td>0.0</td>\n",
              "      <td>14.0</td>\n",
              "      <td>14.0</td>\n",
              "      <td>346</td>\n",
              "      <td>1</td>\n",
              "      <td>0.0</td>\n",
              "      <td>17.0</td>\n",
              "      <td>243</td>\n",
              "      <td>4902.0</td>\n",
              "    </tr>\n",
              "    <tr>\n",
              "      <th>2</th>\n",
              "      <td>True</td>\n",
              "      <td>DGCQep2AE5QRkNCshIAlFQ==</td>\n",
              "      <td>Fv28Bz0YRTVAT5kl1bAV6g==</td>\n",
              "      <td>360.0</td>\n",
              "      <td>100.027073</td>\n",
              "      <td>0.351918</td>\n",
              "      <td>112.892453</td>\n",
              "      <td>0.29</td>\n",
              "      <td>7207.92</td>\n",
              "      <td>36.0</td>\n",
              "      <td>NaN</td>\n",
              "      <td>65023.65</td>\n",
              "      <td>NaN</td>\n",
              "      <td>Ygq6MsM98oC8yceExr69Ig==</td>\n",
              "      <td>n+xK9CfX0bCn77lClTWviw==</td>\n",
              "      <td>NaN</td>\n",
              "      <td>0.0</td>\n",
              "      <td>0.0</td>\n",
              "      <td>10.0</td>\n",
              "      <td>NaN</td>\n",
              "      <td>6</td>\n",
              "      <td>2</td>\n",
              "      <td>NaN</td>\n",
              "      <td>9.0</td>\n",
              "      <td>65</td>\n",
              "      <td>163679.0</td>\n",
              "    </tr>\n",
              "  </tbody>\n",
              "</table>\n",
              "</div>"
            ],
            "text/plain": [
              "  target_default  ... reported_income\n",
              "0          False  ...         57849.0\n",
              "1          False  ...          4902.0\n",
              "2           True  ...        163679.0\n",
              "\n",
              "[3 rows x 26 columns]"
            ]
          },
          "metadata": {
            "tags": []
          },
          "execution_count": 37
        }
      ]
    },
    {
      "cell_type": "markdown",
      "metadata": {
        "id": "SCIxLiwQFVn5",
        "colab_type": "text"
      },
      "source": [
        "Despite not having more information on the features, we can assume that the NaN values are due to two factors:\n",
        "\n",
        "1. Some items are not mandatory when filling out the form, such as Facebook profile integration.\n",
        "2. There is no observation regarding the columns, like in ['last_amount_borrowed', 'last_borrowed_in_months', 'n_issues'].\n",
        "\n",
        "Overall, for the variables that we don't have much information on, let's fill the NaN values with zero. For the numerical variables, we'll fill in with the median, and categorical variables will be filled in with the most frequent value."
      ]
    },
    {
      "cell_type": "code",
      "metadata": {
        "id": "Z-vnJZtgFVBm",
        "colab_type": "code",
        "colab": {}
      },
      "source": [
        "from sklearn.impute import SimpleImputer\n",
        "\n",
        "num_df = df_clean.select_dtypes(exclude='object').columns\n",
        "cat_df = df_clean.select_dtypes(include='object').columns\n",
        "\n",
        "# substituting missing values\n",
        "df_clean.last_amount_borrowed.fillna(value=0, inplace=True)\n",
        "df_clean.last_borrowed_in_months.fillna(value=0, inplace=True)\n",
        "df_clean.n_issues.fillna(value=0, inplace=True)\n",
        "\n",
        "# numerical variables\n",
        "imputer = SimpleImputer(missing_values=np.nan, strategy='median')\n",
        "imputer = imputer.fit(df_clean.loc[:,num_df])\n",
        "df_clean.loc[:,num_df] = imputer.transform(df_clean.loc[:,num_df])\n",
        "\n",
        "# categorical variables\n",
        "imputer = SimpleImputer(missing_values=np.nan, strategy='most_frequent')\n",
        "imputer = imputer.fit(df_clean.loc[:,cat_df])\n",
        "df_clean.loc[:,cat_df] = imputer.transform(df_clean.loc[:,cat_df])"
      ],
      "execution_count": 0,
      "outputs": []
    },
    {
      "cell_type": "markdown",
      "metadata": {
        "id": "MhHo-YGNKdKX",
        "colab_type": "text"
      },
      "source": [
        "Let's check for null values and see it worked."
      ]
    },
    {
      "cell_type": "code",
      "metadata": {
        "id": "prD9JtOKKkZr",
        "colab_type": "code",
        "colab": {
          "base_uri": "https://localhost:8080/",
          "height": 485
        },
        "outputId": "7222414f-7b8e-4f50-c6d7-8781875d3210"
      },
      "source": [
        "# checking for null values\n",
        "df_clean.isnull().sum()"
      ],
      "execution_count": 39,
      "outputs": [
        {
          "output_type": "execute_result",
          "data": {
            "text/plain": [
              "target_default                                     0\n",
              "score_1                                            0\n",
              "score_2                                            0\n",
              "score_3                                            0\n",
              "score_4                                            0\n",
              "score_5                                            0\n",
              "score_6                                            0\n",
              "risk_rate                                          0\n",
              "last_amount_borrowed                               0\n",
              "last_borrowed_in_months                            0\n",
              "credit_limit                                       0\n",
              "income                                             0\n",
              "facebook_profile                                   0\n",
              "state                                              0\n",
              "real_state                                         0\n",
              "ok_since                                           0\n",
              "n_bankruptcies                                     0\n",
              "n_defaulted_loans                                  0\n",
              "n_accounts                                         0\n",
              "n_issues                                           0\n",
              "application_time_in_funnel                         0\n",
              "external_data_provider_credit_checks_last_month    0\n",
              "external_data_provider_credit_checks_last_year     0\n",
              "external_data_provider_email_seen_before           0\n",
              "external_data_provider_fraud_score                 0\n",
              "reported_income                                    0\n",
              "dtype: int64"
            ]
          },
          "metadata": {
            "tags": []
          },
          "execution_count": 39
        }
      ]
    },
    {
      "cell_type": "markdown",
      "metadata": {
        "id": "rALBlNIgL7vI",
        "colab_type": "text"
      },
      "source": [
        "To improve the performance of the model, let's scale the dataset."
      ]
    },
    {
      "cell_type": "code",
      "metadata": {
        "id": "VIPjy8s2L4HL",
        "colab_type": "code",
        "colab": {}
      },
      "source": [
        "from sklearn.preprocessing import StandardScaler\n",
        "\n",
        "scaled_df = df_clean.copy()\n",
        "# normalizing the numerical columns\n",
        "num_cols = scaled_df.drop('target_default',\n",
        "                         axis=1).select_dtypes(exclude='object').columns\n",
        "\n",
        "scaled_df[num_cols] = StandardScaler().fit_transform(scaled_df[num_cols].values)"
      ],
      "execution_count": 0,
      "outputs": []
    },
    {
      "cell_type": "markdown",
      "metadata": {
        "id": "Mv54Vk8qMgVl",
        "colab_type": "text"
      },
      "source": [
        "With the numerical variables scaled, it's time to work with the categorical variables.\n",
        "\n",
        "We're going to label encode the variables in order to use them in our Machine Learning model."
      ]
    },
    {
      "cell_type": "code",
      "metadata": {
        "id": "pfenuHOtM6es",
        "colab_type": "code",
        "colab": {}
      },
      "source": [
        "from sklearn.preprocessing import LabelEncoder\n",
        "\n",
        "encoded_df = scaled_df.copy()\n",
        "# extracting the categorical variables\n",
        "cat_cols = encoded_df.select_dtypes('object').columns\n",
        "\n",
        "# codifying each categorical column\n",
        "for col in cat_cols:\n",
        "  encoded_df[col+'_encoded'] = LabelEncoder().fit_transform(encoded_df[col])\n",
        "  encoded_df.drop(col, axis=1, inplace=True)"
      ],
      "execution_count": 0,
      "outputs": []
    },
    {
      "cell_type": "markdown",
      "metadata": {
        "id": "wtX6dIBsN4jc",
        "colab_type": "text"
      },
      "source": [
        "At last, let's divide the target variable from the other variables and split the dataset into train and test."
      ]
    },
    {
      "cell_type": "code",
      "metadata": {
        "id": "twZQHM_cOEji",
        "colab_type": "code",
        "colab": {}
      },
      "source": [
        "from sklearn.model_selection import train_test_split\n",
        "\n",
        "# separating the target variable from the others\n",
        "X = encoded_df.drop('target_default', axis=1).select_dtypes(exclude='object')\n",
        "y = encoded_df['target_default']\n",
        "\n",
        "# splitting the dataset into train and test\n",
        "X_train, X_test, y_train, y_test = train_test_split(X, y, test_size=0.3)"
      ],
      "execution_count": 0,
      "outputs": []
    },
    {
      "cell_type": "markdown",
      "metadata": {
        "id": "8-Hw2d8WgEz3",
        "colab_type": "text"
      },
      "source": [
        "## Machine Learning Model - XGBoost\n",
        "\n",
        "The model of choice will be XGBoost, which has been presenting great results in problems like this.\n",
        "\n",
        "I should note that the Data Analysis wasn't deep, and the parameters haven't received any tuning. It's only a simple model to serve as baseline."
      ]
    },
    {
      "cell_type": "code",
      "metadata": {
        "id": "U92ZKfSUf8lV",
        "colab_type": "code",
        "colab": {
          "base_uri": "https://localhost:8080/",
          "height": 139
        },
        "outputId": "31ac9445-f3bb-4add-bcd2-f890c4bf76f6"
      },
      "source": [
        "from xgboost import XGBClassifier\n",
        "from sklearn.metrics import accuracy_score\n",
        "from sklearn.metrics import classification_report\n",
        "\n",
        "# building and training the model\n",
        "ml_model = XGBClassifier(learning_rate=0.05, n_estimators=300,\n",
        "                         max_depth=4, subsample = 0.9,\n",
        "                         colsample_bytree = 0.1, gamma=1,\n",
        "                         random_state=42)\n",
        "ml_model.fit(X_train, y_train)"
      ],
      "execution_count": 47,
      "outputs": [
        {
          "output_type": "execute_result",
          "data": {
            "text/plain": [
              "XGBClassifier(base_score=0.5, booster='gbtree', colsample_bylevel=1,\n",
              "              colsample_bynode=1, colsample_bytree=0.1, gamma=1,\n",
              "              learning_rate=0.05, max_delta_step=0, max_depth=4,\n",
              "              min_child_weight=1, missing=None, n_estimators=300, n_jobs=1,\n",
              "              nthread=None, objective='binary:logistic', random_state=42,\n",
              "              reg_alpha=0, reg_lambda=1, scale_pos_weight=1, seed=None,\n",
              "              silent=None, subsample=0.9, verbosity=1)"
            ]
          },
          "metadata": {
            "tags": []
          },
          "execution_count": 47
        }
      ]
    },
    {
      "cell_type": "markdown",
      "metadata": {
        "id": "T9AtIF0wej69",
        "colab_type": "text"
      },
      "source": [
        "Mind that the dataset used in this project is not balanced, and that may generate metrics that don't represent the reality of the problematic situation of the real world.\n",
        "\n",
        "Without further ado, let's present the accuracy of the model as a simple evaluation metric."
      ]
    },
    {
      "cell_type": "code",
      "metadata": {
        "id": "n8Yz70WabZvQ",
        "colab_type": "code",
        "colab": {
          "base_uri": "https://localhost:8080/",
          "height": 69
        },
        "outputId": "1f6b820e-11ae-41d4-9b07-fbf11aa007b8"
      },
      "source": [
        "# predictions and probabilities on the test dataset\n",
        "y_pred = ml_model.predict(X_test)\n",
        "\n",
        "# checking the accuracy of the model\n",
        "print(\"\\nAccuracy Score:\")\n",
        "print (accuracy_score(y_test, y_pred))"
      ],
      "execution_count": 50,
      "outputs": [
        {
          "output_type": "stream",
          "text": [
            "\n",
            "Accuracy Score:\n",
            "0.8445260720274694\n"
          ],
          "name": "stdout"
        }
      ]
    },
    {
      "cell_type": "markdown",
      "metadata": {
        "id": "wlNTJVoCh8Br",
        "colab_type": "text"
      },
      "source": [
        "# Conclusions\n",
        "\n",
        "It's safe to assume that this is a multiobjective problem of optimization, in which it's expected to minimize false positives while maximizing true positives.\n",
        "\n",
        "In this initial stage, the use of the Accuracy Score can be used as a benchmark when comparing different Machine Learning models for this problem.\n",
        "\n",
        "Soon, I plan to implement better Problem Structuring Methods to define weights for each objective to establish an objective function for the modeling.\n",
        "\n",
        "\n",
        "<center><img width = '80%'src= \"https://github.com/rafaelnduarte/Analysis_of_Violence_in_Rio_de_Janeiro/raw/master/img/rafaelnd_ds.png\"></center>"
      ]
    },
    {
      "cell_type": "code",
      "metadata": {
        "id": "bu9wtFWvfRDR",
        "colab_type": "code",
        "colab": {}
      },
      "source": [
        ""
      ],
      "execution_count": 0,
      "outputs": []
    }
  ]
}